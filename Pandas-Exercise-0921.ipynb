{
 "cells": [
  {
   "cell_type": "markdown",
   "metadata": {},
   "source": [
    "# Pandas Exercise (10 points)"
   ]
  },
  {
   "cell_type": "markdown",
   "metadata": {},
   "source": [
    "For this exercise, we will use the file `financial_report.csv` in the `data` folder, which provides information about financial institutions in the USA, and has information about their name, city, state, certificates, etc. "
   ]
  },
  {
   "cell_type": "markdown",
   "metadata": {},
   "source": [
    "## Part 1. Importing Data (2 points)\n",
    "\n",
    "(1.1) Import the table `financial_report.csv` as a dataframe `df1`. Note again that it is located in the `data` folder. "
   ]
  },
  {
   "cell_type": "code",
   "execution_count": 2,
   "metadata": {
    "tags": []
   },
   "outputs": [],
   "source": [
    "# Your code here\n",
    "import pandas as pd\n",
    "\n",
    "file_path = 'data/financial_report.csv'\n",
    "\n",
    "df1 = pd.read_csv(file_path)"
   ]
  },
  {
   "cell_type": "markdown",
   "metadata": {},
   "source": [
    "(1.2) Display the summary information about the dataframe. How many rows and columns are in the dataframe?"
   ]
  },
  {
   "cell_type": "code",
   "execution_count": 3,
   "metadata": {},
   "outputs": [
    {
     "name": "stdout",
     "output_type": "stream",
     "text": [
      "<class 'pandas.core.frame.DataFrame'>\n",
      "RangeIndex: 551 entries, 0 to 550\n",
      "Data columns (total 7 columns):\n",
      " #   Column                 Non-Null Count  Dtype \n",
      "---  ------                 --------------  ----- \n",
      " 0   Bank Name              551 non-null    object\n",
      " 1   City                   551 non-null    object\n",
      " 2   ST                     551 non-null    object\n",
      " 3   CERT                   551 non-null    int64 \n",
      " 4   Acquiring Institution  551 non-null    object\n",
      " 5   Closing Date           551 non-null    object\n",
      " 6   Updated Date           551 non-null    object\n",
      "dtypes: int64(1), object(6)\n",
      "memory usage: 30.3+ KB\n",
      "Number of rows: 551\n",
      "Number of columns: 7\n"
     ]
    }
   ],
   "source": [
    "# Your code here\n",
    "df1.info()\n",
    "\n",
    "num_rows, num_columns = df1.shape\n",
    "print(f\"Number of rows: {num_rows}\")\n",
    "print(f\"Number of columns: {num_columns}\")"
   ]
  },
  {
   "cell_type": "markdown",
   "metadata": {},
   "source": [
    "(1.3) Display the first 10 rows of the table, using the `head()` function."
   ]
  },
  {
   "cell_type": "code",
   "execution_count": 4,
   "metadata": {
    "tags": []
   },
   "outputs": [
    {
     "name": "stdout",
     "output_type": "stream",
     "text": [
      "                                           Bank Name                City  ST  \\\n",
      "0                                Fayette County Bank          Saint Elmo  IL   \n",
      "1  Guaranty Bank, (d/b/a BestBank in Georgia & Mi...           Milwaukee  WI   \n",
      "2                                     First NBC Bank         New Orleans  LA   \n",
      "3                                      Proficio Bank  Cottonwood Heights  UT   \n",
      "4                      Seaway Bank and Trust Company             Chicago  IL   \n",
      "5                             Harvest Community Bank          Pennsville  NJ   \n",
      "6                                        Allied Bank            Mulberry  AR   \n",
      "7                       The Woodbury Banking Company            Woodbury  GA   \n",
      "8                             First CornerStone Bank     King of Prussia  PA   \n",
      "9                                 Trust Company Bank             Memphis  TN   \n",
      "\n",
      "    CERT                Acquiring Institution Closing Date Updated Date  \n",
      "0   1802            United Fidelity Bank, fsb    26-May-17     1-Jun-17  \n",
      "1  30003  First-Citizens Bank & Trust Company     5-May-17     1-Jun-17  \n",
      "2  58302                         Whitney Bank    28-Apr-17    23-May-17  \n",
      "3  35495                    Cache Valley Bank     3-Mar-17    18-May-17  \n",
      "4  19328                  State Bank of Texas    27-Jan-17    18-May-17  \n",
      "5  34951  First-Citizens Bank & Trust Company    13-Jan-17    18-May-17  \n",
      "6     91                         Today's Bank    23-Sep-16    17-Nov-16  \n",
      "7  11297                          United Bank    19-Aug-16     1-Jun-17  \n",
      "8  35312  First-Citizens Bank & Trust Company     6-May-16     6-Sep-16  \n",
      "9   9956           The Bank of Fayette County    29-Apr-16     6-Sep-16  \n"
     ]
    }
   ],
   "source": [
    "# Your code here\n",
    "df1_head = df1.head(10)\n",
    "print(df1_head)"
   ]
  },
  {
   "cell_type": "markdown",
   "metadata": {},
   "source": [
    "(1.4) Display the last 20 rows of the table, using the `tail()` function."
   ]
  },
  {
   "cell_type": "code",
   "execution_count": 5,
   "metadata": {},
   "outputs": [
    {
     "data": {
      "text/html": [
       "<div>\n",
       "<style scoped>\n",
       "    .dataframe tbody tr th:only-of-type {\n",
       "        vertical-align: middle;\n",
       "    }\n",
       "\n",
       "    .dataframe tbody tr th {\n",
       "        vertical-align: top;\n",
       "    }\n",
       "\n",
       "    .dataframe thead th {\n",
       "        text-align: right;\n",
       "    }\n",
       "</style>\n",
       "<table border=\"1\" class=\"dataframe\">\n",
       "  <thead>\n",
       "    <tr style=\"text-align: right;\">\n",
       "      <th></th>\n",
       "      <th>Bank Name</th>\n",
       "      <th>City</th>\n",
       "      <th>ST</th>\n",
       "      <th>CERT</th>\n",
       "      <th>Acquiring Institution</th>\n",
       "      <th>Closing Date</th>\n",
       "      <th>Updated Date</th>\n",
       "    </tr>\n",
       "  </thead>\n",
       "  <tbody>\n",
       "    <tr>\n",
       "      <th>531</th>\n",
       "      <td>Guaranty National Bank of Tallahassee</td>\n",
       "      <td>Tallahassee</td>\n",
       "      <td>FL</td>\n",
       "      <td>26838</td>\n",
       "      <td>Hancock Bank of Florida</td>\n",
       "      <td>12-Mar-04</td>\n",
       "      <td>5-Jun-12</td>\n",
       "    </tr>\n",
       "    <tr>\n",
       "      <th>532</th>\n",
       "      <td>Dollar Savings Bank</td>\n",
       "      <td>Newark</td>\n",
       "      <td>NJ</td>\n",
       "      <td>31330</td>\n",
       "      <td>No Acquirer</td>\n",
       "      <td>14-Feb-04</td>\n",
       "      <td>9-Apr-08</td>\n",
       "    </tr>\n",
       "    <tr>\n",
       "      <th>533</th>\n",
       "      <td>Pulaski Savings Bank</td>\n",
       "      <td>Philadelphia</td>\n",
       "      <td>PA</td>\n",
       "      <td>27203</td>\n",
       "      <td>Earthstar Bank</td>\n",
       "      <td>14-Nov-03</td>\n",
       "      <td>22-Jul-05</td>\n",
       "    </tr>\n",
       "    <tr>\n",
       "      <th>534</th>\n",
       "      <td>First National Bank of Blanchardville</td>\n",
       "      <td>Blanchardville</td>\n",
       "      <td>WI</td>\n",
       "      <td>11639</td>\n",
       "      <td>The Park Bank</td>\n",
       "      <td>9-May-03</td>\n",
       "      <td>5-Jun-12</td>\n",
       "    </tr>\n",
       "    <tr>\n",
       "      <th>535</th>\n",
       "      <td>Southern Pacific Bank</td>\n",
       "      <td>Torrance</td>\n",
       "      <td>CA</td>\n",
       "      <td>27094</td>\n",
       "      <td>Beal Bank</td>\n",
       "      <td>7-Feb-03</td>\n",
       "      <td>20-Oct-08</td>\n",
       "    </tr>\n",
       "    <tr>\n",
       "      <th>536</th>\n",
       "      <td>Farmers Bank of Cheneyville</td>\n",
       "      <td>Cheneyville</td>\n",
       "      <td>LA</td>\n",
       "      <td>16445</td>\n",
       "      <td>Sabine State Bank &amp; Trust</td>\n",
       "      <td>17-Dec-02</td>\n",
       "      <td>20-Oct-04</td>\n",
       "    </tr>\n",
       "    <tr>\n",
       "      <th>537</th>\n",
       "      <td>Bank of Alamo</td>\n",
       "      <td>Alamo</td>\n",
       "      <td>TN</td>\n",
       "      <td>9961</td>\n",
       "      <td>No Acquirer</td>\n",
       "      <td>8-Nov-02</td>\n",
       "      <td>18-Mar-05</td>\n",
       "    </tr>\n",
       "    <tr>\n",
       "      <th>538</th>\n",
       "      <td>AmTrade International Bank</td>\n",
       "      <td>Atlanta</td>\n",
       "      <td>GA</td>\n",
       "      <td>33784</td>\n",
       "      <td>No Acquirer</td>\n",
       "      <td>30-Sep-02</td>\n",
       "      <td>11-Sep-06</td>\n",
       "    </tr>\n",
       "    <tr>\n",
       "      <th>539</th>\n",
       "      <td>Connecticut Bank of Commerce</td>\n",
       "      <td>Stamford</td>\n",
       "      <td>CT</td>\n",
       "      <td>19183</td>\n",
       "      <td>Hudson United Bank</td>\n",
       "      <td>26-Jun-02</td>\n",
       "      <td>14-Feb-12</td>\n",
       "    </tr>\n",
       "    <tr>\n",
       "      <th>540</th>\n",
       "      <td>New Century Bank</td>\n",
       "      <td>Shelby Township</td>\n",
       "      <td>MI</td>\n",
       "      <td>34979</td>\n",
       "      <td>No Acquirer</td>\n",
       "      <td>28-Mar-02</td>\n",
       "      <td>18-Mar-05</td>\n",
       "    </tr>\n",
       "    <tr>\n",
       "      <th>541</th>\n",
       "      <td>Net 1st National Bank</td>\n",
       "      <td>Boca Raton</td>\n",
       "      <td>FL</td>\n",
       "      <td>26652</td>\n",
       "      <td>Bank Leumi USA</td>\n",
       "      <td>1-Mar-02</td>\n",
       "      <td>9-Apr-08</td>\n",
       "    </tr>\n",
       "    <tr>\n",
       "      <th>542</th>\n",
       "      <td>NextBank, NA</td>\n",
       "      <td>Phoenix</td>\n",
       "      <td>AZ</td>\n",
       "      <td>22314</td>\n",
       "      <td>No Acquirer</td>\n",
       "      <td>7-Feb-02</td>\n",
       "      <td>5-Feb-15</td>\n",
       "    </tr>\n",
       "    <tr>\n",
       "      <th>543</th>\n",
       "      <td>Oakwood Deposit Bank Co.</td>\n",
       "      <td>Oakwood</td>\n",
       "      <td>OH</td>\n",
       "      <td>8966</td>\n",
       "      <td>The State Bank &amp; Trust Company</td>\n",
       "      <td>1-Feb-02</td>\n",
       "      <td>25-Oct-12</td>\n",
       "    </tr>\n",
       "    <tr>\n",
       "      <th>544</th>\n",
       "      <td>Bank of Sierra Blanca</td>\n",
       "      <td>Sierra Blanca</td>\n",
       "      <td>TX</td>\n",
       "      <td>22002</td>\n",
       "      <td>The Security State Bank of Pecos</td>\n",
       "      <td>18-Jan-02</td>\n",
       "      <td>6-Nov-03</td>\n",
       "    </tr>\n",
       "    <tr>\n",
       "      <th>545</th>\n",
       "      <td>Hamilton Bank, NA</td>\n",
       "      <td>Miami</td>\n",
       "      <td>FL</td>\n",
       "      <td>24382</td>\n",
       "      <td>Israel Discount Bank of New York</td>\n",
       "      <td>11-Jan-02</td>\n",
       "      <td>21-Sep-15</td>\n",
       "    </tr>\n",
       "    <tr>\n",
       "      <th>546</th>\n",
       "      <td>Superior Bank, FSB</td>\n",
       "      <td>Hinsdale</td>\n",
       "      <td>IL</td>\n",
       "      <td>32646</td>\n",
       "      <td>Superior Federal, FSB</td>\n",
       "      <td>27-Jul-01</td>\n",
       "      <td>19-Aug-14</td>\n",
       "    </tr>\n",
       "    <tr>\n",
       "      <th>547</th>\n",
       "      <td>Malta National Bank</td>\n",
       "      <td>Malta</td>\n",
       "      <td>OH</td>\n",
       "      <td>6629</td>\n",
       "      <td>North Valley Bank</td>\n",
       "      <td>3-May-01</td>\n",
       "      <td>18-Nov-02</td>\n",
       "    </tr>\n",
       "    <tr>\n",
       "      <th>548</th>\n",
       "      <td>First Alliance Bank &amp; Trust Co.</td>\n",
       "      <td>Manchester</td>\n",
       "      <td>NH</td>\n",
       "      <td>34264</td>\n",
       "      <td>Southern New Hampshire Bank &amp; Trust</td>\n",
       "      <td>2-Feb-01</td>\n",
       "      <td>18-Feb-03</td>\n",
       "    </tr>\n",
       "    <tr>\n",
       "      <th>549</th>\n",
       "      <td>National State Bank of Metropolis</td>\n",
       "      <td>Metropolis</td>\n",
       "      <td>IL</td>\n",
       "      <td>3815</td>\n",
       "      <td>Banterra Bank of Marion</td>\n",
       "      <td>14-Dec-00</td>\n",
       "      <td>17-Mar-05</td>\n",
       "    </tr>\n",
       "    <tr>\n",
       "      <th>550</th>\n",
       "      <td>Bank of Honolulu</td>\n",
       "      <td>Honolulu</td>\n",
       "      <td>HI</td>\n",
       "      <td>21029</td>\n",
       "      <td>Bank of the Orient</td>\n",
       "      <td>13-Oct-00</td>\n",
       "      <td>17-Mar-05</td>\n",
       "    </tr>\n",
       "  </tbody>\n",
       "</table>\n",
       "</div>"
      ],
      "text/plain": [
       "                                 Bank Name             City  ST   CERT  \\\n",
       "531  Guaranty National Bank of Tallahassee      Tallahassee  FL  26838   \n",
       "532                    Dollar Savings Bank           Newark  NJ  31330   \n",
       "533                   Pulaski Savings Bank     Philadelphia  PA  27203   \n",
       "534  First National Bank of Blanchardville   Blanchardville  WI  11639   \n",
       "535                  Southern Pacific Bank         Torrance  CA  27094   \n",
       "536            Farmers Bank of Cheneyville      Cheneyville  LA  16445   \n",
       "537                          Bank of Alamo            Alamo  TN   9961   \n",
       "538             AmTrade International Bank          Atlanta  GA  33784   \n",
       "539           Connecticut Bank of Commerce         Stamford  CT  19183   \n",
       "540                       New Century Bank  Shelby Township  MI  34979   \n",
       "541                  Net 1st National Bank       Boca Raton  FL  26652   \n",
       "542                           NextBank, NA          Phoenix  AZ  22314   \n",
       "543               Oakwood Deposit Bank Co.          Oakwood  OH   8966   \n",
       "544                  Bank of Sierra Blanca    Sierra Blanca  TX  22002   \n",
       "545                      Hamilton Bank, NA            Miami  FL  24382   \n",
       "546                     Superior Bank, FSB         Hinsdale  IL  32646   \n",
       "547                    Malta National Bank            Malta  OH   6629   \n",
       "548        First Alliance Bank & Trust Co.       Manchester  NH  34264   \n",
       "549      National State Bank of Metropolis       Metropolis  IL   3815   \n",
       "550                       Bank of Honolulu         Honolulu  HI  21029   \n",
       "\n",
       "                   Acquiring Institution Closing Date Updated Date  \n",
       "531              Hancock Bank of Florida    12-Mar-04     5-Jun-12  \n",
       "532                          No Acquirer    14-Feb-04     9-Apr-08  \n",
       "533                       Earthstar Bank    14-Nov-03    22-Jul-05  \n",
       "534                        The Park Bank     9-May-03     5-Jun-12  \n",
       "535                            Beal Bank     7-Feb-03    20-Oct-08  \n",
       "536            Sabine State Bank & Trust    17-Dec-02    20-Oct-04  \n",
       "537                          No Acquirer     8-Nov-02    18-Mar-05  \n",
       "538                          No Acquirer    30-Sep-02    11-Sep-06  \n",
       "539                   Hudson United Bank    26-Jun-02    14-Feb-12  \n",
       "540                          No Acquirer    28-Mar-02    18-Mar-05  \n",
       "541                       Bank Leumi USA     1-Mar-02     9-Apr-08  \n",
       "542                          No Acquirer     7-Feb-02     5-Feb-15  \n",
       "543       The State Bank & Trust Company     1-Feb-02    25-Oct-12  \n",
       "544     The Security State Bank of Pecos    18-Jan-02     6-Nov-03  \n",
       "545     Israel Discount Bank of New York    11-Jan-02    21-Sep-15  \n",
       "546                Superior Federal, FSB    27-Jul-01    19-Aug-14  \n",
       "547                    North Valley Bank     3-May-01    18-Nov-02  \n",
       "548  Southern New Hampshire Bank & Trust     2-Feb-01    18-Feb-03  \n",
       "549              Banterra Bank of Marion    14-Dec-00    17-Mar-05  \n",
       "550                   Bank of the Orient    13-Oct-00    17-Mar-05  "
      ]
     },
     "execution_count": 5,
     "metadata": {},
     "output_type": "execute_result"
    }
   ],
   "source": [
    "# Your code here\n",
    "df1_tail = df1.tail(20)\n",
    "df1.tail(20)\n",
    "#print(df1_tail)"
   ]
  },
  {
   "cell_type": "markdown",
   "metadata": {},
   "source": [
    "(1.5) Display the column names (using the `.columns` attribute)."
   ]
  },
  {
   "cell_type": "code",
   "execution_count": 6,
   "metadata": {},
   "outputs": [
    {
     "data": {
      "text/plain": [
       "Index(['Bank Name', 'City', 'ST', 'CERT', 'Acquiring Institution',\n",
       "       'Closing Date', 'Updated Date'],\n",
       "      dtype='object')"
      ]
     },
     "execution_count": 6,
     "metadata": {},
     "output_type": "execute_result"
    }
   ],
   "source": [
    "# Your code here\n",
    "df1.columns"
   ]
  },
  {
   "cell_type": "markdown",
   "metadata": {},
   "source": [
    "## Part 2. Column Manipulation (2 points)"
   ]
  },
  {
   "cell_type": "markdown",
   "metadata": {},
   "source": [
    "(2.1) Create a new column in the dataframe called `'City, ST'` by adding City and State information (e.g., Saint Elmo, IL). Display the head of the resulting dataframe."
   ]
  },
  {
   "cell_type": "code",
   "execution_count": 10,
   "metadata": {},
   "outputs": [
    {
     "data": {
      "text/html": [
       "<div>\n",
       "<style scoped>\n",
       "    .dataframe tbody tr th:only-of-type {\n",
       "        vertical-align: middle;\n",
       "    }\n",
       "\n",
       "    .dataframe tbody tr th {\n",
       "        vertical-align: top;\n",
       "    }\n",
       "\n",
       "    .dataframe thead th {\n",
       "        text-align: right;\n",
       "    }\n",
       "</style>\n",
       "<table border=\"1\" class=\"dataframe\">\n",
       "  <thead>\n",
       "    <tr style=\"text-align: right;\">\n",
       "      <th></th>\n",
       "      <th>Bank Name</th>\n",
       "      <th>City</th>\n",
       "      <th>ST</th>\n",
       "      <th>CERT</th>\n",
       "      <th>Acquiring Institution</th>\n",
       "      <th>Closing Date</th>\n",
       "      <th>Updated Date</th>\n",
       "      <th>City, ST</th>\n",
       "    </tr>\n",
       "  </thead>\n",
       "  <tbody>\n",
       "    <tr>\n",
       "      <th>0</th>\n",
       "      <td>Fayette County Bank</td>\n",
       "      <td>Saint Elmo</td>\n",
       "      <td>IL</td>\n",
       "      <td>1802</td>\n",
       "      <td>United Fidelity Bank, fsb</td>\n",
       "      <td>26-May-17</td>\n",
       "      <td>1-Jun-17</td>\n",
       "      <td>Saint Elmo, IL</td>\n",
       "    </tr>\n",
       "    <tr>\n",
       "      <th>1</th>\n",
       "      <td>Guaranty Bank, (d/b/a BestBank in Georgia &amp; Mi...</td>\n",
       "      <td>Milwaukee</td>\n",
       "      <td>WI</td>\n",
       "      <td>30003</td>\n",
       "      <td>First-Citizens Bank &amp; Trust Company</td>\n",
       "      <td>5-May-17</td>\n",
       "      <td>1-Jun-17</td>\n",
       "      <td>Milwaukee, WI</td>\n",
       "    </tr>\n",
       "    <tr>\n",
       "      <th>2</th>\n",
       "      <td>First NBC Bank</td>\n",
       "      <td>New Orleans</td>\n",
       "      <td>LA</td>\n",
       "      <td>58302</td>\n",
       "      <td>Whitney Bank</td>\n",
       "      <td>28-Apr-17</td>\n",
       "      <td>23-May-17</td>\n",
       "      <td>New Orleans, LA</td>\n",
       "    </tr>\n",
       "    <tr>\n",
       "      <th>3</th>\n",
       "      <td>Proficio Bank</td>\n",
       "      <td>Cottonwood Heights</td>\n",
       "      <td>UT</td>\n",
       "      <td>35495</td>\n",
       "      <td>Cache Valley Bank</td>\n",
       "      <td>3-Mar-17</td>\n",
       "      <td>18-May-17</td>\n",
       "      <td>Cottonwood Heights, UT</td>\n",
       "    </tr>\n",
       "    <tr>\n",
       "      <th>4</th>\n",
       "      <td>Seaway Bank and Trust Company</td>\n",
       "      <td>Chicago</td>\n",
       "      <td>IL</td>\n",
       "      <td>19328</td>\n",
       "      <td>State Bank of Texas</td>\n",
       "      <td>27-Jan-17</td>\n",
       "      <td>18-May-17</td>\n",
       "      <td>Chicago, IL</td>\n",
       "    </tr>\n",
       "  </tbody>\n",
       "</table>\n",
       "</div>"
      ],
      "text/plain": [
       "                                           Bank Name                City  ST  \\\n",
       "0                                Fayette County Bank          Saint Elmo  IL   \n",
       "1  Guaranty Bank, (d/b/a BestBank in Georgia & Mi...           Milwaukee  WI   \n",
       "2                                     First NBC Bank         New Orleans  LA   \n",
       "3                                      Proficio Bank  Cottonwood Heights  UT   \n",
       "4                      Seaway Bank and Trust Company             Chicago  IL   \n",
       "\n",
       "    CERT                Acquiring Institution Closing Date Updated Date  \\\n",
       "0   1802            United Fidelity Bank, fsb    26-May-17     1-Jun-17   \n",
       "1  30003  First-Citizens Bank & Trust Company     5-May-17     1-Jun-17   \n",
       "2  58302                         Whitney Bank    28-Apr-17    23-May-17   \n",
       "3  35495                    Cache Valley Bank     3-Mar-17    18-May-17   \n",
       "4  19328                  State Bank of Texas    27-Jan-17    18-May-17   \n",
       "\n",
       "                 City, ST  \n",
       "0          Saint Elmo, IL  \n",
       "1           Milwaukee, WI  \n",
       "2         New Orleans, LA  \n",
       "3  Cottonwood Heights, UT  \n",
       "4             Chicago, IL  "
      ]
     },
     "execution_count": 10,
     "metadata": {},
     "output_type": "execute_result"
    }
   ],
   "source": [
    "# Your code here\n",
    "df1['City, ST'] = df1['City'] + ', ' + df1['ST']\n",
    "df1_city_st = df1.head()\n",
    "df1.head()\n",
    "#print(df1_city_st)"
   ]
  },
  {
   "cell_type": "markdown",
   "metadata": {},
   "source": [
    "(2.2) Change the name of the column `CERT` to `Certificates`. Display the head of the dataframe."
   ]
  },
  {
   "cell_type": "code",
   "execution_count": 14,
   "metadata": {},
   "outputs": [
    {
     "data": {
      "text/html": [
       "<div>\n",
       "<style scoped>\n",
       "    .dataframe tbody tr th:only-of-type {\n",
       "        vertical-align: middle;\n",
       "    }\n",
       "\n",
       "    .dataframe tbody tr th {\n",
       "        vertical-align: top;\n",
       "    }\n",
       "\n",
       "    .dataframe thead th {\n",
       "        text-align: right;\n",
       "    }\n",
       "</style>\n",
       "<table border=\"1\" class=\"dataframe\">\n",
       "  <thead>\n",
       "    <tr style=\"text-align: right;\">\n",
       "      <th></th>\n",
       "      <th>Bank Name</th>\n",
       "      <th>City</th>\n",
       "      <th>ST</th>\n",
       "      <th>Certificates</th>\n",
       "      <th>Acquiring Institution</th>\n",
       "      <th>Closing Date</th>\n",
       "      <th>Updated Date</th>\n",
       "      <th>City, ST</th>\n",
       "    </tr>\n",
       "  </thead>\n",
       "  <tbody>\n",
       "    <tr>\n",
       "      <th>0</th>\n",
       "      <td>Fayette County Bank</td>\n",
       "      <td>Saint Elmo</td>\n",
       "      <td>IL</td>\n",
       "      <td>1802</td>\n",
       "      <td>United Fidelity Bank, fsb</td>\n",
       "      <td>26-May-17</td>\n",
       "      <td>1-Jun-17</td>\n",
       "      <td>Saint Elmo, IL</td>\n",
       "    </tr>\n",
       "    <tr>\n",
       "      <th>1</th>\n",
       "      <td>Guaranty Bank, (d/b/a BestBank in Georgia &amp; Mi...</td>\n",
       "      <td>Milwaukee</td>\n",
       "      <td>WI</td>\n",
       "      <td>30003</td>\n",
       "      <td>First-Citizens Bank &amp; Trust Company</td>\n",
       "      <td>5-May-17</td>\n",
       "      <td>1-Jun-17</td>\n",
       "      <td>Milwaukee, WI</td>\n",
       "    </tr>\n",
       "    <tr>\n",
       "      <th>2</th>\n",
       "      <td>First NBC Bank</td>\n",
       "      <td>New Orleans</td>\n",
       "      <td>LA</td>\n",
       "      <td>58302</td>\n",
       "      <td>Whitney Bank</td>\n",
       "      <td>28-Apr-17</td>\n",
       "      <td>23-May-17</td>\n",
       "      <td>New Orleans, LA</td>\n",
       "    </tr>\n",
       "    <tr>\n",
       "      <th>3</th>\n",
       "      <td>Proficio Bank</td>\n",
       "      <td>Cottonwood Heights</td>\n",
       "      <td>UT</td>\n",
       "      <td>35495</td>\n",
       "      <td>Cache Valley Bank</td>\n",
       "      <td>3-Mar-17</td>\n",
       "      <td>18-May-17</td>\n",
       "      <td>Cottonwood Heights, UT</td>\n",
       "    </tr>\n",
       "    <tr>\n",
       "      <th>4</th>\n",
       "      <td>Seaway Bank and Trust Company</td>\n",
       "      <td>Chicago</td>\n",
       "      <td>IL</td>\n",
       "      <td>19328</td>\n",
       "      <td>State Bank of Texas</td>\n",
       "      <td>27-Jan-17</td>\n",
       "      <td>18-May-17</td>\n",
       "      <td>Chicago, IL</td>\n",
       "    </tr>\n",
       "  </tbody>\n",
       "</table>\n",
       "</div>"
      ],
      "text/plain": [
       "                                           Bank Name                City  ST  \\\n",
       "0                                Fayette County Bank          Saint Elmo  IL   \n",
       "1  Guaranty Bank, (d/b/a BestBank in Georgia & Mi...           Milwaukee  WI   \n",
       "2                                     First NBC Bank         New Orleans  LA   \n",
       "3                                      Proficio Bank  Cottonwood Heights  UT   \n",
       "4                      Seaway Bank and Trust Company             Chicago  IL   \n",
       "\n",
       "   Certificates                Acquiring Institution Closing Date  \\\n",
       "0          1802            United Fidelity Bank, fsb    26-May-17   \n",
       "1         30003  First-Citizens Bank & Trust Company     5-May-17   \n",
       "2         58302                         Whitney Bank    28-Apr-17   \n",
       "3         35495                    Cache Valley Bank     3-Mar-17   \n",
       "4         19328                  State Bank of Texas    27-Jan-17   \n",
       "\n",
       "  Updated Date                City, ST  \n",
       "0     1-Jun-17          Saint Elmo, IL  \n",
       "1     1-Jun-17           Milwaukee, WI  \n",
       "2    23-May-17         New Orleans, LA  \n",
       "3    18-May-17  Cottonwood Heights, UT  \n",
       "4    18-May-17             Chicago, IL  "
      ]
     },
     "execution_count": 14,
     "metadata": {},
     "output_type": "execute_result"
    }
   ],
   "source": [
    "# Your code here\n",
    "df1.rename(columns={'CERT': 'Certificates'}, inplace = True)\n",
    "df1.head()"
   ]
  },
  {
   "cell_type": "markdown",
   "metadata": {},
   "source": [
    "(2.3) Create a pandas series object called `series1` from the column `Acquiring Institution`. Confirm the type of `series1`."
   ]
  },
  {
   "cell_type": "code",
   "execution_count": 17,
   "metadata": {},
   "outputs": [
    {
     "name": "stdout",
     "output_type": "stream",
     "text": [
      "<class 'pandas.core.series.Series'>\n"
     ]
    }
   ],
   "source": [
    "# Your code here\n",
    "series1 = df1['Acquiring Institution']\n",
    "print(type(series1))"
   ]
  },
  {
   "cell_type": "markdown",
   "metadata": {},
   "source": [
    "(2.4) Delete the column `'Updated Date'` from the dataframe. Display the head."
   ]
  },
  {
   "cell_type": "code",
   "execution_count": 18,
   "metadata": {},
   "outputs": [
    {
     "data": {
      "text/html": [
       "<div>\n",
       "<style scoped>\n",
       "    .dataframe tbody tr th:only-of-type {\n",
       "        vertical-align: middle;\n",
       "    }\n",
       "\n",
       "    .dataframe tbody tr th {\n",
       "        vertical-align: top;\n",
       "    }\n",
       "\n",
       "    .dataframe thead th {\n",
       "        text-align: right;\n",
       "    }\n",
       "</style>\n",
       "<table border=\"1\" class=\"dataframe\">\n",
       "  <thead>\n",
       "    <tr style=\"text-align: right;\">\n",
       "      <th></th>\n",
       "      <th>Bank Name</th>\n",
       "      <th>City</th>\n",
       "      <th>ST</th>\n",
       "      <th>Certificates</th>\n",
       "      <th>Acquiring Institution</th>\n",
       "      <th>Closing Date</th>\n",
       "      <th>City, ST</th>\n",
       "    </tr>\n",
       "  </thead>\n",
       "  <tbody>\n",
       "    <tr>\n",
       "      <th>0</th>\n",
       "      <td>Fayette County Bank</td>\n",
       "      <td>Saint Elmo</td>\n",
       "      <td>IL</td>\n",
       "      <td>1802</td>\n",
       "      <td>United Fidelity Bank, fsb</td>\n",
       "      <td>26-May-17</td>\n",
       "      <td>Saint Elmo, IL</td>\n",
       "    </tr>\n",
       "    <tr>\n",
       "      <th>1</th>\n",
       "      <td>Guaranty Bank, (d/b/a BestBank in Georgia &amp; Mi...</td>\n",
       "      <td>Milwaukee</td>\n",
       "      <td>WI</td>\n",
       "      <td>30003</td>\n",
       "      <td>First-Citizens Bank &amp; Trust Company</td>\n",
       "      <td>5-May-17</td>\n",
       "      <td>Milwaukee, WI</td>\n",
       "    </tr>\n",
       "    <tr>\n",
       "      <th>2</th>\n",
       "      <td>First NBC Bank</td>\n",
       "      <td>New Orleans</td>\n",
       "      <td>LA</td>\n",
       "      <td>58302</td>\n",
       "      <td>Whitney Bank</td>\n",
       "      <td>28-Apr-17</td>\n",
       "      <td>New Orleans, LA</td>\n",
       "    </tr>\n",
       "    <tr>\n",
       "      <th>3</th>\n",
       "      <td>Proficio Bank</td>\n",
       "      <td>Cottonwood Heights</td>\n",
       "      <td>UT</td>\n",
       "      <td>35495</td>\n",
       "      <td>Cache Valley Bank</td>\n",
       "      <td>3-Mar-17</td>\n",
       "      <td>Cottonwood Heights, UT</td>\n",
       "    </tr>\n",
       "    <tr>\n",
       "      <th>4</th>\n",
       "      <td>Seaway Bank and Trust Company</td>\n",
       "      <td>Chicago</td>\n",
       "      <td>IL</td>\n",
       "      <td>19328</td>\n",
       "      <td>State Bank of Texas</td>\n",
       "      <td>27-Jan-17</td>\n",
       "      <td>Chicago, IL</td>\n",
       "    </tr>\n",
       "  </tbody>\n",
       "</table>\n",
       "</div>"
      ],
      "text/plain": [
       "                                           Bank Name                City  ST  \\\n",
       "0                                Fayette County Bank          Saint Elmo  IL   \n",
       "1  Guaranty Bank, (d/b/a BestBank in Georgia & Mi...           Milwaukee  WI   \n",
       "2                                     First NBC Bank         New Orleans  LA   \n",
       "3                                      Proficio Bank  Cottonwood Heights  UT   \n",
       "4                      Seaway Bank and Trust Company             Chicago  IL   \n",
       "\n",
       "   Certificates                Acquiring Institution Closing Date  \\\n",
       "0          1802            United Fidelity Bank, fsb    26-May-17   \n",
       "1         30003  First-Citizens Bank & Trust Company     5-May-17   \n",
       "2         58302                         Whitney Bank    28-Apr-17   \n",
       "3         35495                    Cache Valley Bank     3-Mar-17   \n",
       "4         19328                  State Bank of Texas    27-Jan-17   \n",
       "\n",
       "                 City, ST  \n",
       "0          Saint Elmo, IL  \n",
       "1           Milwaukee, WI  \n",
       "2         New Orleans, LA  \n",
       "3  Cottonwood Heights, UT  \n",
       "4             Chicago, IL  "
      ]
     },
     "execution_count": 18,
     "metadata": {},
     "output_type": "execute_result"
    }
   ],
   "source": [
    "# Your code here\n",
    "df1.drop('Updated Date', axis = 1, inplace=True)\n",
    "df1.head()"
   ]
  },
  {
   "cell_type": "markdown",
   "metadata": {},
   "source": [
    "(2.5) Reorder the columns so that the `City, ST` column is after the `ST` column. "
   ]
  },
  {
   "cell_type": "code",
   "execution_count": 22,
   "metadata": {},
   "outputs": [
    {
     "data": {
      "text/html": [
       "<div>\n",
       "<style scoped>\n",
       "    .dataframe tbody tr th:only-of-type {\n",
       "        vertical-align: middle;\n",
       "    }\n",
       "\n",
       "    .dataframe tbody tr th {\n",
       "        vertical-align: top;\n",
       "    }\n",
       "\n",
       "    .dataframe thead th {\n",
       "        text-align: right;\n",
       "    }\n",
       "</style>\n",
       "<table border=\"1\" class=\"dataframe\">\n",
       "  <thead>\n",
       "    <tr style=\"text-align: right;\">\n",
       "      <th></th>\n",
       "      <th>Bank Name</th>\n",
       "      <th>City</th>\n",
       "      <th>ST</th>\n",
       "      <th>City, ST</th>\n",
       "      <th>Certificates</th>\n",
       "      <th>Acquiring Institution</th>\n",
       "      <th>Closing Date</th>\n",
       "    </tr>\n",
       "  </thead>\n",
       "  <tbody>\n",
       "    <tr>\n",
       "      <th>0</th>\n",
       "      <td>Fayette County Bank</td>\n",
       "      <td>Saint Elmo</td>\n",
       "      <td>IL</td>\n",
       "      <td>Saint Elmo, IL</td>\n",
       "      <td>1802</td>\n",
       "      <td>United Fidelity Bank, fsb</td>\n",
       "      <td>26-May-17</td>\n",
       "    </tr>\n",
       "    <tr>\n",
       "      <th>1</th>\n",
       "      <td>Guaranty Bank, (d/b/a BestBank in Georgia &amp; Mi...</td>\n",
       "      <td>Milwaukee</td>\n",
       "      <td>WI</td>\n",
       "      <td>Milwaukee, WI</td>\n",
       "      <td>30003</td>\n",
       "      <td>First-Citizens Bank &amp; Trust Company</td>\n",
       "      <td>5-May-17</td>\n",
       "    </tr>\n",
       "    <tr>\n",
       "      <th>2</th>\n",
       "      <td>First NBC Bank</td>\n",
       "      <td>New Orleans</td>\n",
       "      <td>LA</td>\n",
       "      <td>New Orleans, LA</td>\n",
       "      <td>58302</td>\n",
       "      <td>Whitney Bank</td>\n",
       "      <td>28-Apr-17</td>\n",
       "    </tr>\n",
       "    <tr>\n",
       "      <th>3</th>\n",
       "      <td>Proficio Bank</td>\n",
       "      <td>Cottonwood Heights</td>\n",
       "      <td>UT</td>\n",
       "      <td>Cottonwood Heights, UT</td>\n",
       "      <td>35495</td>\n",
       "      <td>Cache Valley Bank</td>\n",
       "      <td>3-Mar-17</td>\n",
       "    </tr>\n",
       "    <tr>\n",
       "      <th>4</th>\n",
       "      <td>Seaway Bank and Trust Company</td>\n",
       "      <td>Chicago</td>\n",
       "      <td>IL</td>\n",
       "      <td>Chicago, IL</td>\n",
       "      <td>19328</td>\n",
       "      <td>State Bank of Texas</td>\n",
       "      <td>27-Jan-17</td>\n",
       "    </tr>\n",
       "  </tbody>\n",
       "</table>\n",
       "</div>"
      ],
      "text/plain": [
       "                                           Bank Name                City  ST  \\\n",
       "0                                Fayette County Bank          Saint Elmo  IL   \n",
       "1  Guaranty Bank, (d/b/a BestBank in Georgia & Mi...           Milwaukee  WI   \n",
       "2                                     First NBC Bank         New Orleans  LA   \n",
       "3                                      Proficio Bank  Cottonwood Heights  UT   \n",
       "4                      Seaway Bank and Trust Company             Chicago  IL   \n",
       "\n",
       "                 City, ST  Certificates                Acquiring Institution  \\\n",
       "0          Saint Elmo, IL          1802            United Fidelity Bank, fsb   \n",
       "1           Milwaukee, WI         30003  First-Citizens Bank & Trust Company   \n",
       "2         New Orleans, LA         58302                         Whitney Bank   \n",
       "3  Cottonwood Heights, UT         35495                    Cache Valley Bank   \n",
       "4             Chicago, IL         19328                  State Bank of Texas   \n",
       "\n",
       "  Closing Date  \n",
       "0    26-May-17  \n",
       "1     5-May-17  \n",
       "2    28-Apr-17  \n",
       "3     3-Mar-17  \n",
       "4    27-Jan-17  "
      ]
     },
     "execution_count": 22,
     "metadata": {},
     "output_type": "execute_result"
    }
   ],
   "source": [
    "# Your code here\n",
    "df1 = df1[['Bank Name', 'City', 'ST', 'City, ST', 'Certificates', 'Acquiring Institution', 'Closing Date']]\n",
    "df1.head()"
   ]
  },
  {
   "cell_type": "markdown",
   "metadata": {},
   "source": [
    "## Part 3. Information Retrieval (4 points)"
   ]
  },
  {
   "cell_type": "markdown",
   "metadata": {},
   "source": [
    "(3.1) How many different states have banks in this dataset? "
   ]
  },
  {
   "cell_type": "code",
   "execution_count": 29,
   "metadata": {
    "tags": []
   },
   "outputs": [
    {
     "data": {
      "text/plain": [
       "44"
      ]
     },
     "execution_count": 29,
     "metadata": {},
     "output_type": "execute_result"
    }
   ],
   "source": [
    "# Your code here\n",
    "df1['ST'].nunique()"
   ]
  },
  {
   "cell_type": "markdown",
   "metadata": {},
   "source": [
    "(3.2) Display all the states in the `ST` column."
   ]
  },
  {
   "cell_type": "code",
   "execution_count": 25,
   "metadata": {
    "tags": []
   },
   "outputs": [
    {
     "data": {
      "text/plain": [
       "array(['IL', 'WI', 'LA', 'UT', 'NJ', 'AR', 'GA', 'PA', 'TN', 'WA', 'CO',\n",
       "       'PR', 'FL', 'MN', 'CA', 'MD', 'OK', 'OH', 'SC', 'VA', 'ID', 'TX',\n",
       "       'CT', 'AZ', 'NV', 'NC', 'KY', 'MO', 'KS', 'AL', 'MI', 'IN', 'IA',\n",
       "       'NE', 'MS', 'NM', 'OR', 'NY', 'MA', 'SD', 'WY', 'WV', 'NH', 'HI'],\n",
       "      dtype=object)"
      ]
     },
     "execution_count": 25,
     "metadata": {},
     "output_type": "execute_result"
    }
   ],
   "source": [
    "# Your code here\n",
    "df1['ST'].unique()"
   ]
  },
  {
   "cell_type": "markdown",
   "metadata": {},
   "source": [
    "(3.3) Display the number of acquisitions for each acquiring institution."
   ]
  },
  {
   "cell_type": "code",
   "execution_count": 31,
   "metadata": {
    "tags": []
   },
   "outputs": [
    {
     "data": {
      "text/plain": [
       "Acquiring Institution\n",
       "No Acquirer                            31\n",
       "State Bank and Trust Company           12\n",
       "First-Citizens Bank & Trust Company    11\n",
       "Ameris Bank                            10\n",
       "U.S. Bank N.A.                          9\n",
       "                                       ..\n",
       "BankSouth                               1\n",
       "McFarland State Bank                    1\n",
       "Bank 7                                  1\n",
       "Farmers & Merchants Savings Bank        1\n",
       "Bank of the Orient                      1\n",
       "Name: count, Length: 286, dtype: int64"
      ]
     },
     "execution_count": 31,
     "metadata": {},
     "output_type": "execute_result"
    }
   ],
   "source": [
    "# Your code here\n",
    "df1['Acquiring Institution'].value_counts()"
   ]
  },
  {
   "cell_type": "markdown",
   "metadata": {},
   "source": [
    "(3.4) Display the top 4 acquiring institutions (ignore 'No Acquirer') and the number of acquisitions for each of them."
   ]
  },
  {
   "cell_type": "code",
   "execution_count": 33,
   "metadata": {},
   "outputs": [
    {
     "data": {
      "text/plain": [
       "Acquiring Institution\n",
       "State Bank and Trust Company           12\n",
       "First-Citizens Bank & Trust Company    11\n",
       "Ameris Bank                            10\n",
       "U.S. Bank N.A.                          9\n",
       "Name: count, dtype: int64"
      ]
     },
     "execution_count": 33,
     "metadata": {},
     "output_type": "execute_result"
    }
   ],
   "source": [
    "# Your code here\n",
    "temp_df1 = df1[df1['Acquiring Institution'] != 'No Acquirer']\n",
    "temp_df1['Acquiring Institution'].value_counts().head(4)"
   ]
  },
  {
   "cell_type": "markdown",
   "metadata": {},
   "source": [
    "(3.5) Display the number of acquisitions for each acquiring institution in alphabetical order."
   ]
  },
  {
   "cell_type": "code",
   "execution_count": 34,
   "metadata": {},
   "outputs": [
    {
     "data": {
      "text/plain": [
       "Acquiring Institution\n",
       "1st United Bank                        3\n",
       "Advantage National Bank Group          1\n",
       "Alerus Financial, N.A.                 2\n",
       "Allegheny Valley Bank of Pittsburgh    1\n",
       "Alma Bank                              1\n",
       "                                      ..\n",
       "Whidbey Island Bank                    2\n",
       "Whitney Bank                           1\n",
       "Wilshire State Bank                    1\n",
       "Xenith Bank                            1\n",
       "Your Community Bank                    1\n",
       "Name: count, Length: 286, dtype: int64"
      ]
     },
     "execution_count": 34,
     "metadata": {},
     "output_type": "execute_result"
    }
   ],
   "source": [
    "# Your code here\n",
    "df1['Acquiring Institution'].value_counts().sort_index()"
   ]
  },
  {
   "cell_type": "markdown",
   "metadata": {},
   "source": [
    "(3.6) Are there any missing values in the dataframe?"
   ]
  },
  {
   "cell_type": "code",
   "execution_count": 36,
   "metadata": {},
   "outputs": [
    {
     "data": {
      "text/plain": [
       "Bank Name                0\n",
       "City                     0\n",
       "ST                       0\n",
       "City, ST                 0\n",
       "Certificates             0\n",
       "Acquiring Institution    0\n",
       "Closing Date             0\n",
       "dtype: int64"
      ]
     },
     "execution_count": 36,
     "metadata": {},
     "output_type": "execute_result"
    }
   ],
   "source": [
    "# Your code here\n",
    "df1.isnull().sum()"
   ]
  },
  {
   "cell_type": "markdown",
   "metadata": {},
   "source": [
    "(3.7) How many `Certificates` values are above 20,000?"
   ]
  },
  {
   "cell_type": "code",
   "execution_count": 41,
   "metadata": {},
   "outputs": [
    {
     "name": "stdout",
     "output_type": "stream",
     "text": [
      "417\n"
     ]
    }
   ],
   "source": [
    "# Your code here\n",
    "certificates = (df1['Certificates'] > 20000).sum()\n",
    "print(certificates)"
   ]
  },
  {
   "cell_type": "markdown",
   "metadata": {},
   "source": [
    "(3.8) Create a new dataframe called `df2` from df1, by selecting only the banks with more than 20,000 certificates. Print the summary statistics for the dataframe `df2`. "
   ]
  },
  {
   "cell_type": "code",
   "execution_count": 47,
   "metadata": {},
   "outputs": [
    {
     "name": "stdout",
     "output_type": "stream",
     "text": [
      "<class 'pandas.core.frame.DataFrame'>\n",
      "Index: 417 entries, 1 to 550\n",
      "Data columns (total 7 columns):\n",
      " #   Column                 Non-Null Count  Dtype \n",
      "---  ------                 --------------  ----- \n",
      " 0   Bank Name              417 non-null    object\n",
      " 1   City                   417 non-null    object\n",
      " 2   ST                     417 non-null    object\n",
      " 3   City, ST               417 non-null    object\n",
      " 4   Certificates           417 non-null    int64 \n",
      " 5   Acquiring Institution  417 non-null    object\n",
      " 6   Closing Date           417 non-null    object\n",
      "dtypes: int64(1), object(6)\n",
      "memory usage: 26.1+ KB\n"
     ]
    }
   ],
   "source": [
    "# Your code here\n",
    "df2 = df1[df1['Certificates'] > 20000]\n",
    "df2.info()"
   ]
  },
  {
   "cell_type": "markdown",
   "metadata": {},
   "source": [
    "(3.9) Display all the banks that Centennial Bank has acquired."
   ]
  },
  {
   "cell_type": "code",
   "execution_count": 50,
   "metadata": {
    "tags": []
   },
   "outputs": [
    {
     "data": {
      "text/html": [
       "<div>\n",
       "<style scoped>\n",
       "    .dataframe tbody tr th:only-of-type {\n",
       "        vertical-align: middle;\n",
       "    }\n",
       "\n",
       "    .dataframe tbody tr th {\n",
       "        vertical-align: top;\n",
       "    }\n",
       "\n",
       "    .dataframe thead th {\n",
       "        text-align: right;\n",
       "    }\n",
       "</style>\n",
       "<table border=\"1\" class=\"dataframe\">\n",
       "  <thead>\n",
       "    <tr style=\"text-align: right;\">\n",
       "      <th></th>\n",
       "      <th>Bank Name</th>\n",
       "      <th>City</th>\n",
       "      <th>ST</th>\n",
       "      <th>City, ST</th>\n",
       "      <th>Certificates</th>\n",
       "      <th>Acquiring Institution</th>\n",
       "      <th>Closing Date</th>\n",
       "    </tr>\n",
       "  </thead>\n",
       "  <tbody>\n",
       "    <tr>\n",
       "      <th>64</th>\n",
       "      <td>Heritage Bank of Florida</td>\n",
       "      <td>Lutz</td>\n",
       "      <td>FL</td>\n",
       "      <td>Lutz, FL</td>\n",
       "      <td>35009</td>\n",
       "      <td>Centennial Bank</td>\n",
       "      <td>2-Nov-12</td>\n",
       "    </tr>\n",
       "    <tr>\n",
       "      <th>214</th>\n",
       "      <td>Gulf State Community Bank</td>\n",
       "      <td>Carrabelle</td>\n",
       "      <td>FL</td>\n",
       "      <td>Carrabelle, FL</td>\n",
       "      <td>20340</td>\n",
       "      <td>Centennial Bank</td>\n",
       "      <td>19-Nov-10</td>\n",
       "    </tr>\n",
       "    <tr>\n",
       "      <th>233</th>\n",
       "      <td>Wakulla Bank</td>\n",
       "      <td>Crawfordville</td>\n",
       "      <td>FL</td>\n",
       "      <td>Crawfordville, FL</td>\n",
       "      <td>21777</td>\n",
       "      <td>Centennial Bank</td>\n",
       "      <td>1-Oct-10</td>\n",
       "    </tr>\n",
       "    <tr>\n",
       "      <th>255</th>\n",
       "      <td>Coastal Community Bank</td>\n",
       "      <td>Panama City Beach</td>\n",
       "      <td>FL</td>\n",
       "      <td>Panama City Beach, FL</td>\n",
       "      <td>9619</td>\n",
       "      <td>Centennial Bank</td>\n",
       "      <td>30-Jul-10</td>\n",
       "    </tr>\n",
       "    <tr>\n",
       "      <th>256</th>\n",
       "      <td>Bayside Savings Bank</td>\n",
       "      <td>Port Saint Joe</td>\n",
       "      <td>FL</td>\n",
       "      <td>Port Saint Joe, FL</td>\n",
       "      <td>57669</td>\n",
       "      <td>Centennial Bank</td>\n",
       "      <td>30-Jul-10</td>\n",
       "    </tr>\n",
       "    <tr>\n",
       "      <th>322</th>\n",
       "      <td>Key West Bank</td>\n",
       "      <td>Key West</td>\n",
       "      <td>FL</td>\n",
       "      <td>Key West, FL</td>\n",
       "      <td>34684</td>\n",
       "      <td>Centennial Bank</td>\n",
       "      <td>26-Mar-10</td>\n",
       "    </tr>\n",
       "    <tr>\n",
       "      <th>332</th>\n",
       "      <td>Old Southern Bank</td>\n",
       "      <td>Orlando</td>\n",
       "      <td>FL</td>\n",
       "      <td>Orlando, FL</td>\n",
       "      <td>58182</td>\n",
       "      <td>Centennial Bank</td>\n",
       "      <td>12-Mar-10</td>\n",
       "    </tr>\n",
       "  </tbody>\n",
       "</table>\n",
       "</div>"
      ],
      "text/plain": [
       "                     Bank Name               City  ST               City, ST  \\\n",
       "64    Heritage Bank of Florida               Lutz  FL               Lutz, FL   \n",
       "214  Gulf State Community Bank         Carrabelle  FL         Carrabelle, FL   \n",
       "233               Wakulla Bank      Crawfordville  FL      Crawfordville, FL   \n",
       "255     Coastal Community Bank  Panama City Beach  FL  Panama City Beach, FL   \n",
       "256       Bayside Savings Bank     Port Saint Joe  FL     Port Saint Joe, FL   \n",
       "322              Key West Bank           Key West  FL           Key West, FL   \n",
       "332          Old Southern Bank            Orlando  FL            Orlando, FL   \n",
       "\n",
       "     Certificates Acquiring Institution Closing Date  \n",
       "64          35009       Centennial Bank     2-Nov-12  \n",
       "214         20340       Centennial Bank    19-Nov-10  \n",
       "233         21777       Centennial Bank     1-Oct-10  \n",
       "255          9619       Centennial Bank    30-Jul-10  \n",
       "256         57669       Centennial Bank    30-Jul-10  \n",
       "322         34684       Centennial Bank    26-Mar-10  \n",
       "332         58182       Centennial Bank    12-Mar-10  "
      ]
     },
     "execution_count": 50,
     "metadata": {},
     "output_type": "execute_result"
    }
   ],
   "source": [
    "# Your code here\n",
    "bank_acquisitions = df1[df1['Acquiring Institution'] == 'Centennial Bank']\n",
    "bank_acquisitions"
   ]
  },
  {
   "cell_type": "markdown",
   "metadata": {},
   "source": [
    "## Part 4. Groups (2 points)"
   ]
  },
  {
   "cell_type": "markdown",
   "metadata": {},
   "source": [
    "(4.1) Create a new column called `'CA_bank'` which contains Boolean `True` or `False` values to indicate if the bank is in California or not."
   ]
  },
  {
   "cell_type": "code",
   "execution_count": 59,
   "metadata": {},
   "outputs": [
    {
     "data": {
      "text/html": [
       "<div>\n",
       "<style scoped>\n",
       "    .dataframe tbody tr th:only-of-type {\n",
       "        vertical-align: middle;\n",
       "    }\n",
       "\n",
       "    .dataframe tbody tr th {\n",
       "        vertical-align: top;\n",
       "    }\n",
       "\n",
       "    .dataframe thead th {\n",
       "        text-align: right;\n",
       "    }\n",
       "</style>\n",
       "<table border=\"1\" class=\"dataframe\">\n",
       "  <thead>\n",
       "    <tr style=\"text-align: right;\">\n",
       "      <th></th>\n",
       "      <th>Bank Name</th>\n",
       "      <th>City</th>\n",
       "      <th>ST</th>\n",
       "      <th>City, ST</th>\n",
       "      <th>Certificates</th>\n",
       "      <th>Acquiring Institution</th>\n",
       "      <th>Closing Date</th>\n",
       "      <th>CA_bank</th>\n",
       "    </tr>\n",
       "  </thead>\n",
       "  <tbody>\n",
       "    <tr>\n",
       "      <th>0</th>\n",
       "      <td>Fayette County Bank</td>\n",
       "      <td>Saint Elmo</td>\n",
       "      <td>IL</td>\n",
       "      <td>Saint Elmo, IL</td>\n",
       "      <td>1802</td>\n",
       "      <td>United Fidelity Bank, fsb</td>\n",
       "      <td>26-May-17</td>\n",
       "      <td>False</td>\n",
       "    </tr>\n",
       "    <tr>\n",
       "      <th>1</th>\n",
       "      <td>Guaranty Bank, (d/b/a BestBank in Georgia &amp; Mi...</td>\n",
       "      <td>Milwaukee</td>\n",
       "      <td>WI</td>\n",
       "      <td>Milwaukee, WI</td>\n",
       "      <td>30003</td>\n",
       "      <td>First-Citizens Bank &amp; Trust Company</td>\n",
       "      <td>5-May-17</td>\n",
       "      <td>False</td>\n",
       "    </tr>\n",
       "    <tr>\n",
       "      <th>2</th>\n",
       "      <td>First NBC Bank</td>\n",
       "      <td>New Orleans</td>\n",
       "      <td>LA</td>\n",
       "      <td>New Orleans, LA</td>\n",
       "      <td>58302</td>\n",
       "      <td>Whitney Bank</td>\n",
       "      <td>28-Apr-17</td>\n",
       "      <td>False</td>\n",
       "    </tr>\n",
       "    <tr>\n",
       "      <th>3</th>\n",
       "      <td>Proficio Bank</td>\n",
       "      <td>Cottonwood Heights</td>\n",
       "      <td>UT</td>\n",
       "      <td>Cottonwood Heights, UT</td>\n",
       "      <td>35495</td>\n",
       "      <td>Cache Valley Bank</td>\n",
       "      <td>3-Mar-17</td>\n",
       "      <td>False</td>\n",
       "    </tr>\n",
       "    <tr>\n",
       "      <th>4</th>\n",
       "      <td>Seaway Bank and Trust Company</td>\n",
       "      <td>Chicago</td>\n",
       "      <td>IL</td>\n",
       "      <td>Chicago, IL</td>\n",
       "      <td>19328</td>\n",
       "      <td>State Bank of Texas</td>\n",
       "      <td>27-Jan-17</td>\n",
       "      <td>False</td>\n",
       "    </tr>\n",
       "  </tbody>\n",
       "</table>\n",
       "</div>"
      ],
      "text/plain": [
       "                                           Bank Name                City  ST  \\\n",
       "0                                Fayette County Bank          Saint Elmo  IL   \n",
       "1  Guaranty Bank, (d/b/a BestBank in Georgia & Mi...           Milwaukee  WI   \n",
       "2                                     First NBC Bank         New Orleans  LA   \n",
       "3                                      Proficio Bank  Cottonwood Heights  UT   \n",
       "4                      Seaway Bank and Trust Company             Chicago  IL   \n",
       "\n",
       "                 City, ST  Certificates                Acquiring Institution  \\\n",
       "0          Saint Elmo, IL          1802            United Fidelity Bank, fsb   \n",
       "1           Milwaukee, WI         30003  First-Citizens Bank & Trust Company   \n",
       "2         New Orleans, LA         58302                         Whitney Bank   \n",
       "3  Cottonwood Heights, UT         35495                    Cache Valley Bank   \n",
       "4             Chicago, IL         19328                  State Bank of Texas   \n",
       "\n",
       "  Closing Date  CA_bank  \n",
       "0    26-May-17    False  \n",
       "1     5-May-17    False  \n",
       "2    28-Apr-17    False  \n",
       "3     3-Mar-17    False  \n",
       "4    27-Jan-17    False  "
      ]
     },
     "execution_count": 59,
     "metadata": {},
     "output_type": "execute_result"
    }
   ],
   "source": [
    "# Your code here\n",
    "df1.loc[:, 'CA_bank'] = df1['ST'] == 'CA'\n",
    "df1.head()"
   ]
  },
  {
   "cell_type": "markdown",
   "metadata": {},
   "source": [
    "(4.2) Use `groupby` to find the number of banks in each city in California, based on the newly created column `'CA_bank'`. Sort the numbers in descending order (i.e., the city with the most banks is on top)."
   ]
  },
  {
   "cell_type": "code",
   "execution_count": 79,
   "metadata": {},
   "outputs": [
    {
     "data": {
      "text/html": [
       "<div>\n",
       "<style scoped>\n",
       "    .dataframe tbody tr th:only-of-type {\n",
       "        vertical-align: middle;\n",
       "    }\n",
       "\n",
       "    .dataframe tbody tr th {\n",
       "        vertical-align: top;\n",
       "    }\n",
       "\n",
       "    .dataframe thead th {\n",
       "        text-align: right;\n",
       "    }\n",
       "</style>\n",
       "<table border=\"1\" class=\"dataframe\">\n",
       "  <thead>\n",
       "    <tr style=\"text-align: right;\">\n",
       "      <th></th>\n",
       "      <th>City</th>\n",
       "      <th>Bank Name</th>\n",
       "    </tr>\n",
       "  </thead>\n",
       "  <tbody>\n",
       "    <tr>\n",
       "      <th>7</th>\n",
       "      <td>Los Angeles</td>\n",
       "      <td>4</td>\n",
       "    </tr>\n",
       "    <tr>\n",
       "      <th>20</th>\n",
       "      <td>San Diego</td>\n",
       "      <td>2</td>\n",
       "    </tr>\n",
       "    <tr>\n",
       "      <th>21</th>\n",
       "      <td>San Francisco</td>\n",
       "      <td>2</td>\n",
       "    </tr>\n",
       "    <tr>\n",
       "      <th>13</th>\n",
       "      <td>Palm Desert</td>\n",
       "      <td>2</td>\n",
       "    </tr>\n",
       "    <tr>\n",
       "      <th>6</th>\n",
       "      <td>La Jolla</td>\n",
       "      <td>2</td>\n",
       "    </tr>\n",
       "    <tr>\n",
       "      <th>11</th>\n",
       "      <td>Newport Beach</td>\n",
       "      <td>2</td>\n",
       "    </tr>\n",
       "    <tr>\n",
       "      <th>25</th>\n",
       "      <td>Solvang</td>\n",
       "      <td>1</td>\n",
       "    </tr>\n",
       "    <tr>\n",
       "      <th>22</th>\n",
       "      <td>San Luis Obispo</td>\n",
       "      <td>1</td>\n",
       "    </tr>\n",
       "    <tr>\n",
       "      <th>23</th>\n",
       "      <td>San Rafael</td>\n",
       "      <td>1</td>\n",
       "    </tr>\n",
       "    <tr>\n",
       "      <th>24</th>\n",
       "      <td>Santa Monica</td>\n",
       "      <td>1</td>\n",
       "    </tr>\n",
       "    <tr>\n",
       "      <th>0</th>\n",
       "      <td>Bakersfield</td>\n",
       "      <td>1</td>\n",
       "    </tr>\n",
       "    <tr>\n",
       "      <th>19</th>\n",
       "      <td>San Clemente</td>\n",
       "      <td>1</td>\n",
       "    </tr>\n",
       "    <tr>\n",
       "      <th>27</th>\n",
       "      <td>Stockton</td>\n",
       "      <td>1</td>\n",
       "    </tr>\n",
       "    <tr>\n",
       "      <th>28</th>\n",
       "      <td>Temecula</td>\n",
       "      <td>1</td>\n",
       "    </tr>\n",
       "    <tr>\n",
       "      <th>29</th>\n",
       "      <td>Torrance</td>\n",
       "      <td>1</td>\n",
       "    </tr>\n",
       "    <tr>\n",
       "      <th>30</th>\n",
       "      <td>Ventura</td>\n",
       "      <td>1</td>\n",
       "    </tr>\n",
       "    <tr>\n",
       "      <th>31</th>\n",
       "      <td>Westminster</td>\n",
       "      <td>1</td>\n",
       "    </tr>\n",
       "    <tr>\n",
       "      <th>26</th>\n",
       "      <td>Sonoma</td>\n",
       "      <td>1</td>\n",
       "    </tr>\n",
       "    <tr>\n",
       "      <th>16</th>\n",
       "      <td>Pomona</td>\n",
       "      <td>1</td>\n",
       "    </tr>\n",
       "    <tr>\n",
       "      <th>18</th>\n",
       "      <td>Redlands</td>\n",
       "      <td>1</td>\n",
       "    </tr>\n",
       "    <tr>\n",
       "      <th>17</th>\n",
       "      <td>Rancho Cucamonga</td>\n",
       "      <td>1</td>\n",
       "    </tr>\n",
       "    <tr>\n",
       "      <th>1</th>\n",
       "      <td>Calabasas</td>\n",
       "      <td>1</td>\n",
       "    </tr>\n",
       "    <tr>\n",
       "      <th>15</th>\n",
       "      <td>Pasadena</td>\n",
       "      <td>1</td>\n",
       "    </tr>\n",
       "    <tr>\n",
       "      <th>14</th>\n",
       "      <td>Palm Springs</td>\n",
       "      <td>1</td>\n",
       "    </tr>\n",
       "    <tr>\n",
       "      <th>12</th>\n",
       "      <td>Oakland</td>\n",
       "      <td>1</td>\n",
       "    </tr>\n",
       "    <tr>\n",
       "      <th>10</th>\n",
       "      <td>Nevada City</td>\n",
       "      <td>1</td>\n",
       "    </tr>\n",
       "    <tr>\n",
       "      <th>9</th>\n",
       "      <td>Napa</td>\n",
       "      <td>1</td>\n",
       "    </tr>\n",
       "    <tr>\n",
       "      <th>8</th>\n",
       "      <td>Merced</td>\n",
       "      <td>1</td>\n",
       "    </tr>\n",
       "    <tr>\n",
       "      <th>5</th>\n",
       "      <td>Irvine</td>\n",
       "      <td>1</td>\n",
       "    </tr>\n",
       "    <tr>\n",
       "      <th>4</th>\n",
       "      <td>Granite Bay</td>\n",
       "      <td>1</td>\n",
       "    </tr>\n",
       "    <tr>\n",
       "      <th>3</th>\n",
       "      <td>Culver City</td>\n",
       "      <td>1</td>\n",
       "    </tr>\n",
       "    <tr>\n",
       "      <th>2</th>\n",
       "      <td>Chico</td>\n",
       "      <td>1</td>\n",
       "    </tr>\n",
       "    <tr>\n",
       "      <th>32</th>\n",
       "      <td>Woodland Hills</td>\n",
       "      <td>1</td>\n",
       "    </tr>\n",
       "  </tbody>\n",
       "</table>\n",
       "</div>"
      ],
      "text/plain": [
       "                City  Bank Name\n",
       "7        Los Angeles          4\n",
       "20         San Diego          2\n",
       "21     San Francisco          2\n",
       "13       Palm Desert          2\n",
       "6           La Jolla          2\n",
       "11     Newport Beach          2\n",
       "25           Solvang          1\n",
       "22   San Luis Obispo          1\n",
       "23        San Rafael          1\n",
       "24      Santa Monica          1\n",
       "0        Bakersfield          1\n",
       "19      San Clemente          1\n",
       "27          Stockton          1\n",
       "28          Temecula          1\n",
       "29          Torrance          1\n",
       "30           Ventura          1\n",
       "31       Westminster          1\n",
       "26            Sonoma          1\n",
       "16            Pomona          1\n",
       "18          Redlands          1\n",
       "17  Rancho Cucamonga          1\n",
       "1          Calabasas          1\n",
       "15          Pasadena          1\n",
       "14      Palm Springs          1\n",
       "12           Oakland          1\n",
       "10       Nevada City          1\n",
       "9               Napa          1\n",
       "8             Merced          1\n",
       "5             Irvine          1\n",
       "4        Granite Bay          1\n",
       "3        Culver City          1\n",
       "2              Chico          1\n",
       "32    Woodland Hills          1"
      ]
     },
     "execution_count": 79,
     "metadata": {},
     "output_type": "execute_result"
    }
   ],
   "source": [
    "# Your code here\n",
    "ca_banks = df1[df1['CA_bank']]\n",
    "city_bank = ca_banks.groupby('City')['Bank Name'].count().reset_index()\n",
    "sorted_city_bank = city_bank.sort_values(by = 'Bank Name', ascending=False)\n",
    "\n",
    "sorted_city_bank"
   ]
  },
  {
   "cell_type": "markdown",
   "metadata": {},
   "source": [
    "(4.3) Use `groupby` to find which acquiring institution has the most acquisitions in California. "
   ]
  },
  {
   "cell_type": "code",
   "execution_count": 78,
   "metadata": {},
   "outputs": [
    {
     "data": {
      "text/plain": [
       "Acquiring Institution\n",
       "OneWest Bank, FSB                      3\n",
       "First California Bank                  3\n",
       "Pacific Western Bank                   3\n",
       "U.S. Bank N.A.                         3\n",
       "U.S. Bank, N.A.                        2\n",
       "Westamerica Bank                       2\n",
       "Tri Counties Bank                      2\n",
       "City National Bank                     2\n",
       "Pacific Premier Bank                   2\n",
       "First-Citizens Bank & Trust Company    2\n",
       "Sunwest Bank                           2\n",
       "California Bank & Trust                2\n",
       "Rabobank, N.A.                         2\n",
       "Mutual of Omaha Bank                   1\n",
       "Citizens Business Bank                 1\n",
       "No Acquirer                            1\n",
       "Wilshire State Bank                    1\n",
       "Bank of Southern California, N.A.      1\n",
       "East West Bank                         1\n",
       "Center Bank                            1\n",
       "Union Bank, N.A.                       1\n",
       "Grandpoint Bank                        1\n",
       "Bank of Marin                          1\n",
       "Beal Bank                              1\n",
       "Name: count, dtype: int64"
      ]
     },
     "execution_count": 78,
     "metadata": {},
     "output_type": "execute_result"
    }
   ],
   "source": [
    "# Your code here\n",
    "ca_institution = df1[df1['CA_bank']]\n",
    "\n",
    "institution_count = ca_institution['Acquiring Institution'].value_counts()\n",
    "institution_count"
   ]
  }
 ],
 "metadata": {
  "kernelspec": {
   "display_name": "Python 3 (ipykernel)",
   "language": "python",
   "name": "python3"
  },
  "language_info": {
   "codemirror_mode": {
    "name": "ipython",
    "version": 3
   },
   "file_extension": ".py",
   "mimetype": "text/x-python",
   "name": "python",
   "nbconvert_exporter": "python",
   "pygments_lexer": "ipython3",
   "version": "3.9.12"
  }
 },
 "nbformat": 4,
 "nbformat_minor": 4
}
