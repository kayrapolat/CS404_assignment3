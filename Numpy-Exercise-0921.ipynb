{
 "cells": [
  {
   "cell_type": "markdown",
   "metadata": {},
   "source": [
    "# NumPy Exercise (5 points)"
   ]
  },
  {
   "cell_type": "markdown",
   "metadata": {},
   "source": [
    "## Part 1. Array Construction (2 points)"
   ]
  },
  {
   "cell_type": "markdown",
   "metadata": {},
   "source": [
    "(1.1) Create a 2x10 array (two rows and ten columns) named `ary1`, consisting of all zeros and using integer numbers as the data type. "
   ]
  },
  {
   "cell_type": "code",
   "execution_count": 1,
   "metadata": {},
   "outputs": [
    {
     "name": "stdout",
     "output_type": "stream",
     "text": [
      "[[0 0 0 0 0 0 0 0 0 0]\n",
      " [0 0 0 0 0 0 0 0 0 0]]\n"
     ]
    }
   ],
   "source": [
    "# Your code here\n",
    "import numpy as np\n",
    "\n",
    "ary1 = np.zeros((2,10), dtype=int)\n",
    "print(ary1)"
   ]
  },
  {
   "cell_type": "markdown",
   "metadata": {},
   "source": [
    "(1.2) Create an array named `ary2` consisting of 10 ones using float numbers as the data type. Next, create an array named `ary3` consisting of 10 threes using integer numbers. Afterward, concatenate the three arrays (ary1, ary2, ary3) horizontally to obtain a 4x10 array named `ary4`."
   ]
  },
  {
   "cell_type": "code",
   "execution_count": 2,
   "metadata": {},
   "outputs": [
    {
     "name": "stdout",
     "output_type": "stream",
     "text": [
      "array [[0. 0. 0. 0. 0. 0. 0. 0. 0. 0.]\n",
      " [0. 0. 0. 0. 0. 0. 0. 0. 0. 0.]\n",
      " [1. 1. 1. 1. 1. 1. 1. 1. 1. 1.]\n",
      " [3. 3. 3. 3. 3. 3. 3. 3. 3. 3.]]\n"
     ]
    }
   ],
   "source": [
    "# Your code here\n",
    "import numpy as np\n",
    "\n",
    "ary2 = np.ones(10, dtype = float)\n",
    "ary3 = np.full(10, 3, dtype = int)\n",
    "\n",
    "ary4 = np.vstack((ary1, ary2, ary3))\n",
    "print('array',ary4)"
   ]
  },
  {
   "cell_type": "markdown",
   "metadata": {},
   "source": [
    "(1.3) Display the data type of `ary4`. Why it is that data type? What can you conclude about concatenating integers and floats in NumPy?"
   ]
  },
  {
   "cell_type": "code",
   "execution_count": 6,
   "metadata": {},
   "outputs": [
    {
     "name": "stdout",
     "output_type": "stream",
     "text": [
      "The data type of ary4 is:  float64\n"
     ]
    }
   ],
   "source": [
    "# Your code here\n",
    "print('The data type of ary4 is: ', ary4.dtype)\n",
    "\n",
    "## It is float type because it ensures compatibility among all these data types, and 'float' is a more general data type that can represent both\n",
    "## integers and floats, while 'int' only represents other 'int' values."
   ]
  },
  {
   "cell_type": "markdown",
   "metadata": {},
   "source": [
    "(1.4) Create a numpy array of integers from 10 to 50 using `arange`."
   ]
  },
  {
   "cell_type": "code",
   "execution_count": 7,
   "metadata": {},
   "outputs": [
    {
     "name": "stdout",
     "output_type": "stream",
     "text": [
      "[10 11 12 13 14 15 16 17 18 19 20 21 22 23 24 25 26 27 28 29 30 31 32 33\n",
      " 34 35 36 37 38 39 40 41 42 43 44 45 46 47 48 49 50]\n"
     ]
    }
   ],
   "source": [
    "# Your code here\n",
    "import numpy as np\n",
    "\n",
    "array1 = np.arange(10,51)\n",
    "print(array1)"
   ]
  },
  {
   "cell_type": "markdown",
   "metadata": {},
   "source": [
    "(1.5) Create a numpy array of the \"even\" integers from 5 to 29."
   ]
  },
  {
   "cell_type": "code",
   "execution_count": 8,
   "metadata": {},
   "outputs": [
    {
     "name": "stdout",
     "output_type": "stream",
     "text": [
      "[ 6  8 10 12 14 16 18 20 22 24 26 28]\n"
     ]
    }
   ],
   "source": [
    "# Your code here\n",
    "import numpy as np\n",
    "\n",
    "even_arr = np.arange(6, 30, 2)\n",
    "print(even_arr)"
   ]
  },
  {
   "cell_type": "markdown",
   "metadata": {},
   "source": [
    "(1.6) Create a 3x4 array with values ranging from 0 to 12, using `arange` and `reshape`."
   ]
  },
  {
   "cell_type": "code",
   "execution_count": 10,
   "metadata": {},
   "outputs": [
    {
     "name": "stdout",
     "output_type": "stream",
     "text": [
      "[[ 0  1  2  3]\n",
      " [ 4  5  6  7]\n",
      " [ 8  9 10 11]]\n"
     ]
    }
   ],
   "source": [
    "# Your code here\n",
    "import numpy as np \n",
    "\n",
    "arry1d = np.arange(0, 12)\n",
    "array3x4 = arry1d.reshape(3, 4)\n",
    "\n",
    "print(array3x4)"
   ]
  },
  {
   "cell_type": "markdown",
   "metadata": {},
   "source": [
    "## Part 2. Random Number Generators (1 point)"
   ]
  },
  {
   "cell_type": "markdown",
   "metadata": {},
   "source": [
    "(2.1) Generate an array called `ary5` having 30 random numbers sampled from a standard normal distribution with mean=15 and standard deviation=2, by applying a Random State to the random number generator. "
   ]
  },
  {
   "cell_type": "code",
   "execution_count": 15,
   "metadata": {},
   "outputs": [
    {
     "name": "stdout",
     "output_type": "stream",
     "text": [
      "[12.82873879 16.99469089 15.565957   11.98741057 13.8427995  18.30287307\n",
      " 10.14664151 14.14217474 17.53187252 13.2665192  13.6422277  14.81058206\n",
      " 17.98277925 13.72219601 14.11203608 14.13129745 19.41186017 19.37357218\n",
      " 17.0081078  15.7723728  16.47473715 17.98146406 13.12833226 17.35165809\n",
      " 12.49223866 13.724497   16.81421039 12.1426386  14.71986256 13.27649021]\n"
     ]
    }
   ],
   "source": [
    "# Your code here\n",
    "# Obviously, since these are random numbers your solution will be different than those shown below\n",
    "import numpy as np\n",
    "\n",
    "random_st = np.random.RandomState(seed=123)\n",
    "arry5 = 15 + 2*random_st.randn(30)\n",
    "print(arry5)"
   ]
  },
  {
   "cell_type": "markdown",
   "metadata": {},
   "source": [
    "(2.2) Display the indices of the elements in `ary5` sorted in ascending order. "
   ]
  },
  {
   "cell_type": "code",
   "execution_count": 16,
   "metadata": {},
   "outputs": [
    {
     "name": "stdout",
     "output_type": "stream",
     "text": [
      "[ 6  3 27 24  0 22  9 29 10 13 25  4 14 15  7 28 11  2 19 20 26  1 18 23\n",
      "  8 21 12  5 17 16]\n"
     ]
    }
   ],
   "source": [
    "# Your code here\n",
    "sorted_indices = np.argsort(arry5)\n",
    "print(sorted_indices)"
   ]
  },
  {
   "cell_type": "markdown",
   "metadata": {},
   "source": [
    "(2.3) Generate a 4x5 array called `ary6` of random numbers sampled from a uniform distribution. Use the random seed `12` to ensure reproducibility. "
   ]
  },
  {
   "cell_type": "code",
   "execution_count": 24,
   "metadata": {},
   "outputs": [
    {
     "name": "stdout",
     "output_type": "stream",
     "text": [
      "[[0.15416284 0.7400497  0.26331502 0.53373939 0.01457496]\n",
      " [0.91874701 0.90071485 0.03342143 0.95694934 0.13720932]\n",
      " [0.28382835 0.60608318 0.94422514 0.85273554 0.00225923]\n",
      " [0.52122603 0.55203763 0.48537741 0.76813415 0.16071675]]\n"
     ]
    }
   ],
   "source": [
    "# Your code here\n",
    "import numpy as np\n",
    "\n",
    "np.random.seed(seed = 12)\n",
    "ary6 = np.random.rand(4, 5)\n",
    "\n",
    "print(ary6)"
   ]
  },
  {
   "cell_type": "markdown",
   "metadata": {},
   "source": [
    "(2.4) Display the average values of the rows of `ary6`."
   ]
  },
  {
   "cell_type": "code",
   "execution_count": 35,
   "metadata": {},
   "outputs": [
    {
     "data": {
      "text/plain": [
       "array([0.34116838, 0.58940839, 0.53782629, 0.4974984 ])"
      ]
     },
     "execution_count": 35,
     "metadata": {},
     "output_type": "execute_result"
    }
   ],
   "source": [
    "# Your code here\n",
    "ary6.mean(axis = 1)"
   ]
  },
  {
   "cell_type": "markdown",
   "metadata": {},
   "source": [
    "(2.5) Display the index of the minimum element in each column in `ary6`. "
   ]
  },
  {
   "cell_type": "code",
   "execution_count": 36,
   "metadata": {},
   "outputs": [
    {
     "data": {
      "text/plain": [
       "array([0, 3, 1, 0, 2], dtype=int64)"
      ]
     },
     "execution_count": 36,
     "metadata": {},
     "output_type": "execute_result"
    }
   ],
   "source": [
    "# Your code here\n",
    "ary6.argmin(axis = 0)\n"
   ]
  },
  {
   "cell_type": "markdown",
   "metadata": {},
   "source": [
    "## Part 3. Boolean Masks for Indexing (0.5 points)"
   ]
  },
  {
   "cell_type": "markdown",
   "metadata": {},
   "source": [
    "(3.1) Create a Boolean mask of the elements in `ary6` that are in the range between 0.3 and 0.8, and afterward use the mask to extract the elements into a new array `ary7`."
   ]
  },
  {
   "cell_type": "code",
   "execution_count": 42,
   "metadata": {},
   "outputs": [
    {
     "name": "stdout",
     "output_type": "stream",
     "text": [
      "[0.69646919 0.55131477 0.71946897 0.42310646 0.68482974 0.4809319\n",
      " 0.39211752]\n"
     ]
    }
   ],
   "source": [
    "# Your code here\n",
    "import numpy as np\n",
    "\n",
    "np.random.seed(123)\n",
    "\n",
    "ary6 = np.random.rand(10)\n",
    "mask = (ary6 >= 0.3) & (ary6 <= 0.8)\n",
    "\n",
    "ary7 = ary6[mask]\n",
    "print(ary7)\n"
   ]
  },
  {
   "cell_type": "markdown",
   "metadata": {},
   "source": [
    "## Part 4. Reshaping NumPy Arrays (1.5 points)"
   ]
  },
  {
   "cell_type": "markdown",
   "metadata": {},
   "source": [
    "(4.1) Flatten `ary6` using both `flatten()` and `ravel()` and check if the resulting arrays are views of `ary6` (i.e., whether they share the same memory)."
   ]
  },
  {
   "cell_type": "code",
   "execution_count": 43,
   "metadata": {},
   "outputs": [
    {
     "data": {
      "text/plain": [
       "False"
      ]
     },
     "execution_count": 43,
     "metadata": {},
     "output_type": "execute_result"
    }
   ],
   "source": [
    "# Your code here\n",
    "flatten = ary6.flatten()\n",
    "ravel = ary6.ravel()\n",
    "\n",
    "np.may_share_memory(ravel, flatten)"
   ]
  },
  {
   "cell_type": "markdown",
   "metadata": {},
   "source": [
    "(4.2) Create an array of 40 linearly spaced data points between 3 and 5."
   ]
  },
  {
   "cell_type": "code",
   "execution_count": 44,
   "metadata": {},
   "outputs": [
    {
     "name": "stdout",
     "output_type": "stream",
     "text": [
      "[3.         3.05128205 3.1025641  3.15384615 3.20512821 3.25641026\n",
      " 3.30769231 3.35897436 3.41025641 3.46153846 3.51282051 3.56410256\n",
      " 3.61538462 3.66666667 3.71794872 3.76923077 3.82051282 3.87179487\n",
      " 3.92307692 3.97435897 4.02564103 4.07692308 4.12820513 4.17948718\n",
      " 4.23076923 4.28205128 4.33333333 4.38461538 4.43589744 4.48717949\n",
      " 4.53846154 4.58974359 4.64102564 4.69230769 4.74358974 4.79487179\n",
      " 4.84615385 4.8974359  4.94871795 5.        ]\n"
     ]
    }
   ],
   "source": [
    "# Your code here\n",
    "import numpy as np\n",
    "\n",
    "spaced_arr = np.linspace(3, 5, 40)\n",
    "\n",
    "print(spaced_arr)"
   ]
  },
  {
   "cell_type": "markdown",
   "metadata": {},
   "source": [
    "(4.3) For the given array `mat`, in the following cells apply slicing operations to replicate the displayed outputs."
   ]
  },
  {
   "cell_type": "code",
   "execution_count": 94,
   "metadata": {},
   "outputs": [
    {
     "data": {
      "text/plain": [
       "array([[ 1,  2,  3,  4,  5],\n",
       "       [ 6,  7,  8,  9, 10],\n",
       "       [11, 12, 13, 14, 15],\n",
       "       [16, 17, 18, 19, 20],\n",
       "       [21, 22, 23, 24, 25]])"
      ]
     },
     "execution_count": 94,
     "metadata": {},
     "output_type": "execute_result"
    }
   ],
   "source": [
    "mat = np.arange(1,26).reshape(5,5)\n",
    "mat"
   ]
  },
  {
   "cell_type": "code",
   "execution_count": 91,
   "metadata": {},
   "outputs": [
    {
     "data": {
      "text/plain": [
       "array([[11, 12, 13, 14, 15],\n",
       "       [16, 17, 18, 19, 20],\n",
       "       [21, 22, 23, 24, 25]])"
      ]
     },
     "execution_count": 91,
     "metadata": {},
     "output_type": "execute_result"
    }
   ],
   "source": [
    "# Your code here\n",
    "mat[2:, :]"
   ]
  },
  {
   "cell_type": "code",
   "execution_count": 92,
   "metadata": {},
   "outputs": [
    {
     "data": {
      "text/plain": [
       "array([[ 2],\n",
       "       [ 7],\n",
       "       [12]])"
      ]
     },
     "execution_count": 92,
     "metadata": {},
     "output_type": "execute_result"
    }
   ],
   "source": [
    "# Your code here\n",
    "mat[:3, 1:2]"
   ]
  },
  {
   "cell_type": "code",
   "execution_count": 184,
   "metadata": {},
   "outputs": [
    {
     "data": {
      "text/plain": [
       "array([[ 8, 10],\n",
       "       [13, 15]])"
      ]
     },
     "execution_count": 184,
     "metadata": {},
     "output_type": "execute_result"
    }
   ],
   "source": [
    "# Your code here\n",
    "arytemp1 = mat[1:3, 4:]\n",
    "arytemp2 = mat[1:3, 2:3]\n",
    "\n",
    "np.concatenate((arytemp2, arytemp1), axis = 1)"
   ]
  },
  {
   "cell_type": "code",
   "execution_count": 160,
   "metadata": {},
   "outputs": [
    {
     "data": {
      "text/plain": [
       "array([[16, 17, 18, 19, 20],\n",
       "       [21, 22, 23, 24, 25]])"
      ]
     },
     "execution_count": 160,
     "metadata": {},
     "output_type": "execute_result"
    }
   ],
   "source": [
    "# Your code here\n",
    "mat[3:]"
   ]
  }
 ],
 "metadata": {
  "anaconda-cloud": {},
  "kernelspec": {
   "display_name": "Python 3 (ipykernel)",
   "language": "python",
   "name": "python3"
  },
  "language_info": {
   "codemirror_mode": {
    "name": "ipython",
    "version": 3
   },
   "file_extension": ".py",
   "mimetype": "text/x-python",
   "name": "python",
   "nbconvert_exporter": "python",
   "pygments_lexer": "ipython3",
   "version": "3.9.12"
  }
 },
 "nbformat": 4,
 "nbformat_minor": 4
}
